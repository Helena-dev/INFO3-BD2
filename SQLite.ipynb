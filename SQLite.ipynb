{
  "nbformat": 4,
  "nbformat_minor": 0,
  "metadata": {
    "colab": {
      "provenance": []
    },
    "kernelspec": {
      "name": "python3",
      "display_name": "Python 3"
    },
    "language_info": {
      "name": "python"
    }
  },
  "cells": [
    {
      "cell_type": "markdown",
      "source": [
        "\n",
        "\n",
        "```\n",
        "#Helena\n",
        "```\n",
        "\n"
      ],
      "metadata": {
        "id": "DCzWuMFzMSq9"
      }
    },
    {
      "cell_type": "markdown",
      "source": [
        "Conexão ao banco"
      ],
      "metadata": {
        "id": "nqWXfLQHOPVP"
      }
    },
    {
      "cell_type": "code",
      "source": [
        "import sqlite3\n",
        "connection = sqlite3.connect(\"pizza_app.sqlite\")"
      ],
      "metadata": {
        "id": "VnQ6W79pMSfU"
      },
      "execution_count": null,
      "outputs": []
    },
    {
      "cell_type": "markdown",
      "source": [
        "Executando queries\n",
        "\n",
        "\n",
        "\n",
        "\n",
        "\n",
        "\n"
      ],
      "metadata": {
        "id": "Vjmnx9TZRC9M"
      }
    },
    {
      "cell_type": "code",
      "source": [
        "from sqlite3 import Error\n",
        "\n",
        "def execute_query(connection, query):\n",
        "    cursor = connection.cursor()\n",
        "    try:\n",
        "        cursor.execute(query)\n",
        "\n",
        "        # commit necessário para alterações no banco\n",
        "        connection.commit() ###\n",
        "\n",
        "        print(f\"Query executada.\")\n",
        "        if cursor.rowcount != -1:\n",
        "            print(f\"{cursor.rowcount} linha(s) afetadas\")\n",
        "\n",
        "    except Error as e:\n",
        "        print(f\"Erro: '{e}'\")"
      ],
      "metadata": {
        "id": "rxAsTXGlPct_"
      },
      "execution_count": null,
      "outputs": []
    },
    {
      "cell_type": "code",
      "source": [
        "# Cria a tabela produto #\n",
        "create_produto_table = \\\n",
        "\"\"\"CREATE TABLE produto (\n",
        "    id_produto INTEGER PRIMARY KEY AUTOINCREMENT,\n",
        "    tipo VARCHAR(50),\n",
        "    desc_item VARCHAR(100),\n",
        "    vl_preco DECIMAL(10, 2)\n",
        ");\"\"\"\n",
        "\n",
        "execute_query(connection, create_produto_table)\n",
        "#########################\n",
        "\n",
        "# Cria a tabela pedido #\n",
        "create_pedido_table = \\\n",
        "\"\"\"CREATE TABLE pedido (\n",
        "    id_pedido INTEGER PRIMARY KEY AUTOINCREMENT,\n",
        "    dt_pedido DATE,\n",
        "    fl_ketchup BOOLEAN,\n",
        "    desc_uf CHAR(2),\n",
        "    txt_recado TEXT\n",
        ");\"\"\"\n",
        "\n",
        "execute_query(connection, create_pedido_table)\n",
        "#########################\n",
        "\n",
        "# Cria a tabela item_pedido #\n",
        "create_item_pedido_table = \\\n",
        "\"\"\"CREATE TABLE item_pedido (\n",
        "    id_pedido INT NOT NULL,\n",
        "    id_produto INT NOT NULL,\n",
        "    quantidade INT NOT NULL,\n",
        "    PRIMARY KEY (id_pedido, id_produto),\n",
        "    FOREIGN KEY (id_pedido) REFERENCES pedido(id_pedido),\n",
        "    FOREIGN KEY (id_produto) REFERENCES produto(id_produto)\n",
        ");\"\"\"\n",
        "execute_query(connection, create_item_pedido_table)\n",
        "#########################"
      ],
      "metadata": {
        "colab": {
          "base_uri": "https://localhost:8080/"
        },
        "id": "do_tJGXER015",
        "outputId": "d534e0ff-067b-4e7f-fa90-5d7117819e9b"
      },
      "execution_count": null,
      "outputs": [
        {
          "output_type": "stream",
          "name": "stdout",
          "text": [
            "Query executada.\n",
            "Query executada.\n",
            "Query executada.\n"
          ]
        }
      ]
    },
    {
      "cell_type": "code",
      "source": [
        "## Inserindo registros manualmente\n",
        "\n",
        "# Inserindo produto #\n",
        "insert_produto = \\\n",
        "\"\"\"INSERT INTO\n",
        "produto (tipo, desc_item, vl_preco)\n",
        "VALUES\n",
        "('ingrediente', 'camarão', 6),\n",
        "('massa', 'tradicional', 9.25),\n",
        "('borda', 'tradicional', 0),\n",
        "('queijo', 'muçarela', 4),\n",
        "('bebida', 'refrigerante', 5);\n",
        "\"\"\"\n",
        "execute_query(connection, insert_produto)\n",
        "######################\n",
        "\n",
        "# Inserindo pedido\n",
        "insert_pedido = \\\n",
        "\"\"\"INSERT INTO\n",
        "pedido (dt_pedido, fl_ketchup, desc_uf, txt_recado)\n",
        "VALUES\n",
        "('2023-06-01', TRUE, 'MG', 'Capricha no queijo!');\n",
        "\"\"\"\n",
        "execute_query(connection, insert_pedido)\n",
        "######################"
      ],
      "metadata": {
        "colab": {
          "base_uri": "https://localhost:8080/"
        },
        "id": "540HvErdS_7p",
        "outputId": "2c1a1a81-f9ae-47b7-c980-9b59c2a9194d"
      },
      "execution_count": null,
      "outputs": [
        {
          "output_type": "stream",
          "name": "stdout",
          "text": [
            "Query executada.\n",
            "5 linha(s) afetadas\n",
            "Query executada.\n",
            "1 linha(s) afetadas\n"
          ]
        }
      ]
    },
    {
      "cell_type": "code",
      "source": [
        "# Inserindo item_pedido\n",
        "itens = (\n",
        "    {'id_pedido': 1, 'id_produto': 2, 'qtd': 1},\n",
        "    {'id_pedido': 1, 'id_produto': 3, 'qtd': 1},\n",
        "    {'id_pedido': 1, 'id_produto': 1, 'qtd': 1},\n",
        "    {'id_pedido': 1, 'id_produto': 4, 'qtd': 2},\n",
        "    {'id_pedido': 1, 'id_produto': 5, 'qtd': 3}\n",
        ")\n",
        "\n",
        "insert_item_pedido = \\\n",
        "\"\"\"INSERT INTO item_pedido (id_pedido, id_produto, quantidade)\n",
        "VALUES(:id_pedido, :id_produto, :qtd);\"\"\"\n",
        "\n",
        "cursor = connection.cursor()\n",
        "cursor.executemany(insert_item_pedido, itens)\n",
        "connection.commit() # necessário para inserções\n",
        "cursor.close()"
      ],
      "metadata": {
        "colab": {
          "base_uri": "https://localhost:8080/",
          "height": 220
        },
        "id": "XaPRoWR6StBx",
        "outputId": "4783c18f-d6f2-4280-c2fb-c8cf919f9823"
      },
      "execution_count": 21,
      "outputs": [
        {
          "output_type": "error",
          "ename": "IntegrityError",
          "evalue": "UNIQUE constraint failed: item_pedido.id_pedido, item_pedido.id_produto",
          "traceback": [
            "\u001b[0;31m---------------------------------------------------------------------------\u001b[0m",
            "\u001b[0;31mIntegrityError\u001b[0m                            Traceback (most recent call last)",
            "\u001b[0;32m/tmp/ipython-input-21-601637182.py\u001b[0m in \u001b[0;36m<cell line: 0>\u001b[0;34m()\u001b[0m\n\u001b[1;32m     13\u001b[0m \u001b[0;34m\u001b[0m\u001b[0m\n\u001b[1;32m     14\u001b[0m \u001b[0mcursor\u001b[0m \u001b[0;34m=\u001b[0m \u001b[0mconnection\u001b[0m\u001b[0;34m.\u001b[0m\u001b[0mcursor\u001b[0m\u001b[0;34m(\u001b[0m\u001b[0;34m)\u001b[0m\u001b[0;34m\u001b[0m\u001b[0;34m\u001b[0m\u001b[0m\n\u001b[0;32m---> 15\u001b[0;31m \u001b[0mcursor\u001b[0m\u001b[0;34m.\u001b[0m\u001b[0mexecutemany\u001b[0m\u001b[0;34m(\u001b[0m\u001b[0minsert_item_pedido\u001b[0m\u001b[0;34m,\u001b[0m \u001b[0mitens\u001b[0m\u001b[0;34m)\u001b[0m\u001b[0;34m\u001b[0m\u001b[0;34m\u001b[0m\u001b[0m\n\u001b[0m\u001b[1;32m     16\u001b[0m \u001b[0mconnection\u001b[0m\u001b[0;34m.\u001b[0m\u001b[0mcommit\u001b[0m\u001b[0;34m(\u001b[0m\u001b[0;34m)\u001b[0m \u001b[0;31m# necessário para inserções\u001b[0m\u001b[0;34m\u001b[0m\u001b[0;34m\u001b[0m\u001b[0m\n\u001b[1;32m     17\u001b[0m \u001b[0mcursor\u001b[0m\u001b[0;34m.\u001b[0m\u001b[0mclose\u001b[0m\u001b[0;34m(\u001b[0m\u001b[0;34m)\u001b[0m\u001b[0;34m\u001b[0m\u001b[0;34m\u001b[0m\u001b[0m\n",
            "\u001b[0;31mIntegrityError\u001b[0m: UNIQUE constraint failed: item_pedido.id_pedido, item_pedido.id_produto"
          ]
        }
      ]
    },
    {
      "cell_type": "markdown",
      "source": [
        "Leitura\n"
      ],
      "metadata": {
        "id": "-HckxULtSKMp"
      }
    },
    {
      "cell_type": "code",
      "source": [
        "def execute_read_query(connection, query):\n",
        "    cursor = connection.cursor()\n",
        "    result = None\n",
        "    try:\n",
        "        cursor.execute(query)\n",
        "        result = cursor.fetchall()\n",
        "\n",
        "        return result\n",
        "    except Error as e:\n",
        "        print(f\"Erro: '{e}'\")"
      ],
      "metadata": {
        "id": "YkDFXf-ASOpp"
      },
      "execution_count": 23,
      "outputs": []
    },
    {
      "cell_type": "code",
      "source": [
        "tabela = 'produto'\n",
        "query = f\"SELECT * FROM {tabela}\"\n",
        "resultado = execute_read_query(connection, query)\n",
        "\n",
        "print(f\"Tabela: {tabela}\")\n",
        "for res in resultado:\n",
        "    print(res)"
      ],
      "metadata": {
        "colab": {
          "base_uri": "https://localhost:8080/"
        },
        "id": "Hkb9ZsiwShpu",
        "outputId": "b5940e9a-f568-4ffc-c6ab-1e25dc52ba27"
      },
      "execution_count": 22,
      "outputs": [
        {
          "output_type": "stream",
          "name": "stdout",
          "text": [
            "Tabela: produto\n",
            "(1, 'ingrediente', 'camarão', 6)\n",
            "(2, 'massa', 'tradicional', 9.25)\n",
            "(3, 'borda', 'tradicional', 0)\n",
            "(4, 'queijo', 'muçarela', 4)\n",
            "(5, 'bebida', 'refrigerante', 5)\n"
          ]
        }
      ]
    }
  ]
}