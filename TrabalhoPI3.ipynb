{
  "nbformat": 4,
  "nbformat_minor": 0,
  "metadata": {
    "colab": {
      "provenance": [],
      "authorship_tag": "ABX9TyNkClUR1rIJfuCJR1MndFER",
      "include_colab_link": true
    },
    "kernelspec": {
      "name": "python3",
      "display_name": "Python 3"
    },
    "language_info": {
      "name": "python"
    }
  },
  "cells": [
    {
      "cell_type": "markdown",
      "metadata": {
        "id": "view-in-github",
        "colab_type": "text"
      },
      "source": [
        "<a href=\"https://colab.research.google.com/github/Helena-dev/INFO3-BD2/blob/main/TrabalhoPI3.ipynb\" target=\"_parent\"><img src=\"https://colab.research.google.com/assets/colab-badge.svg\" alt=\"Open In Colab\"/></a>"
      ]
    },
    {
      "cell_type": "markdown",
      "source": [
        "# **Helena**"
      ],
      "metadata": {
        "id": "_ORjQwrakVOs"
      }
    },
    {
      "cell_type": "markdown",
      "source": [
        "**Trabalho pratico BD2**"
      ],
      "metadata": {
        "id": "DAPKJxgAkUId"
      }
    },
    {
      "cell_type": "code",
      "execution_count": 1,
      "metadata": {
        "id": "PZ0n3W0NhIHn"
      },
      "outputs": [],
      "source": [
        "import sqlite3\n",
        "from sqlite3 import Error\n",
        "\n",
        "## Função de alteração (insert, update, delete...)\n",
        "def execute_query(connection, query):\n",
        "    cursor = connection.cursor()\n",
        "    try:\n",
        "        cursor.execute(query)\n",
        "        connection.commit()\n",
        "        print(f\"Query {query.split('(')[0].strip()} executada.\")\n",
        "        if cursor.rowcount != -1: print(f\"{cursor.rowcount} linha(s) afetadas\")\n",
        "\n",
        "    except Error as e:\n",
        "        print(f\"Erro: '{e}'\")\n",
        "\n",
        "\n",
        "# Função de leitura de dados (select)\n",
        "def execute_read_query(connection, query):\n",
        "    cursor = connection.cursor()\n",
        "    result = None\n",
        "    try:\n",
        "        cursor.execute(query)\n",
        "        result = cursor.fetchall()\n",
        "\n",
        "        return result\n",
        "    except Error as e:\n",
        "        print(f\"Erro: '{e}'\")"
      ]
    },
    {
      "cell_type": "markdown",
      "source": [
        "Tabela CineIF"
      ],
      "metadata": {
        "id": "bfOzAMKLkfWb"
      }
    },
    {
      "cell_type": "code",
      "source": [
        "## Criando conexão\n",
        "connection = sqlite3.connect(\"campus_cine.sqlite\")\n",
        "\n",
        "query = \"\"\"\n",
        "create table Cineclube (\n",
        "    ID_cineclube INTEGER PRIMARY KEY AUTOINCREMENT,\n",
        "    nome varchar(20) not null,\n",
        "    campusname varchar(50) not null,\n",
        "    data_inicio date not null,\n",
        "    nome_coordenador varchar(20) not null,\n",
        "    senha varchar(20) not null\n",
        ");\n",
        "\"\"\"\n",
        "execute_query(connection, query)\n",
        "\n",
        "query = \"\"\"\n",
        "create table Acoes (\n",
        "    ID_acao INTEGER PRIMARY KEY AUTOINCREMENT,\n",
        "    tipo TEXT CHECK( tipo IN ('divulgação', 'exibição', 'debate', 'diversificado') ) not null,\n",
        "    titulo varchar(50) not null,\n",
        "    data date not null,\n",
        "    hora_inicio time not null,\n",
        "    hora_fim time not null,\n",
        "    local varchar(75) not null\n",
        ");\n",
        "\"\"\"\n",
        "execute_query(connection, query)\n",
        "\n",
        "query = \"\"\"\n",
        "create table Usuario (\n",
        "    nome varchar(20) not null,\n",
        "    email varchar(50) primary key,\n",
        "    senha varchar(50) not null,\n",
        "    data_nascimento date not null,\n",
        "    cidade varchar(70) not null\n",
        ");\n",
        "\"\"\"\n",
        "execute_query(connection, query)\n",
        "\n",
        "query = \"\"\"\n",
        "create table Publico (\n",
        "    ID_publico INTEGER PRIMARY KEY AUTOINCREMENT,\n",
        "    email varchar(50),\n",
        "    Publico_externo boolean not null,\n",
        "    Publico_interno boolean not null,\n",
        "    foreign key (email) references usuario(email)\n",
        ");\n",
        "\"\"\"\n",
        "execute_query(connection, query)"
      ],
      "metadata": {
        "colab": {
          "base_uri": "https://localhost:8080/"
        },
        "id": "BtvE2cd1kgND",
        "outputId": "9c993970-63a8-474c-891c-70c196702bf3"
      },
      "execution_count": 2,
      "outputs": [
        {
          "output_type": "stream",
          "name": "stdout",
          "text": [
            "Query create table Cineclube executada.\n",
            "Query create table Acoes executada.\n",
            "Query create table Usuario executada.\n",
            "Query create table Publico executada.\n"
          ]
        }
      ]
    },
    {
      "cell_type": "code",
      "source": [
        "query = \"\"\"\n",
        "INSERT INTO Usuario (nome, email, senha, data_nascimento, cidade)\n",
        "VALUES\n",
        "('Joao', 'joaogmail', '12', '1/2/3', 'joaodefora'),\n",
        "('Maria', 'Mariagmail', '13', '2/2/3', 'juizdefora'),\n",
        "('Marie', 'Mariegmail', '14', '3/2/3', 'josedefora');\n",
        "\"\"\"\n",
        "execute_query(connection, query)"
      ],
      "metadata": {
        "colab": {
          "base_uri": "https://localhost:8080/"
        },
        "id": "VWR-9RN0kksj",
        "outputId": "31b159fa-fbd4-4637-a919-9f79c76645b8"
      },
      "execution_count": 7,
      "outputs": [
        {
          "output_type": "stream",
          "name": "stdout",
          "text": [
            "Query INSERT INTO Usuario executada.\n",
            "2 linha(s) afetadas\n"
          ]
        }
      ]
    },
    {
      "cell_type": "markdown",
      "source": [
        "Consulta 1:\n",
        "\n",
        "Objetivo da consulta: Contar o numero de usuarios presentes"
      ],
      "metadata": {
        "id": "9dRa0g5xkoYK"
      }
    },
    {
      "cell_type": "code",
      "source": [
        "# CONSULTA 1\n",
        "\n",
        "query_consulta_1 = \"\"\"\n",
        "SELECT COUNT(*) FROM Usuario;\n",
        "\"\"\"\n",
        "resultado_consulta_1 = execute_read_query(connection, query_consulta_1)\n",
        "\n",
        "print(\"Resultado Consulta 1:\")\n",
        "for row in resultado_consulta_1:\n",
        "  print(row)"
      ],
      "metadata": {
        "colab": {
          "base_uri": "https://localhost:8080/"
        },
        "id": "ct2b8HnpknJL",
        "outputId": "1bc18005-892e-4428-9581-736f80e9db61"
      },
      "execution_count": 9,
      "outputs": [
        {
          "output_type": "stream",
          "name": "stdout",
          "text": [
            "Resultado Consulta 1:\n",
            "(3,)\n"
          ]
        }
      ]
    }
  ]
}